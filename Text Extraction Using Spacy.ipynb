{
 "cells": [
  {
   "cell_type": "code",
   "execution_count": 1,
   "id": "f6644134",
   "metadata": {},
   "outputs": [],
   "source": [
    "import re\n",
    "from pdfminer.high_level import extract_text\n",
    "\n",
    "def extract_text_from_pdf(pdf_path):\n",
    "    return extract_text(pdf_path)"
   ]
  },
  {
   "cell_type": "code",
   "execution_count": 2,
   "id": "ee12c006",
   "metadata": {},
   "outputs": [],
   "source": [
    "def extract_contact_number_from_resume(text):\n",
    "    contact_number = None\n",
    "\n",
    "    # Use regex pattern to find a potential contact number\n",
    "    pattern = r\"\\b(?:\\+?\\d{1,3}[-.\\s]?)?\\(?\\d{3}\\)?[-.\\s]?\\d{3}[-.\\s]?\\d{4}\\b\"\n",
    "    match = re.search(pattern, text)\n",
    "    if match:\n",
    "        contact_number = match.group()\n",
    "\n",
    "    return contact_number"
   ]
  },
  {
   "cell_type": "code",
   "execution_count": 3,
   "id": "02200da0",
   "metadata": {},
   "outputs": [],
   "source": [
    "def extract_email_from_resume(text):\n",
    "    email = None\n",
    "\n",
    "    # Use regex pattern to find a potential email address\n",
    "    pattern = r\"\\b[A-Za-z0-9._%+-]+@[A-Za-z0-9.-]+\\.[A-Za-z]{2,}\\b\"\n",
    "    match = re.search(pattern, text)\n",
    "    if match:\n",
    "        email = match.group()\n",
    "\n",
    "    return email"
   ]
  },
  {
   "cell_type": "code",
   "execution_count": 4,
   "id": "93329bbd",
   "metadata": {},
   "outputs": [],
   "source": [
    "def extract_skills_from_resume(text, skills_list):\n",
    "    skills = []\n",
    "\n",
    "    for skill in skills_list:\n",
    "        pattern = r\"\\b{}\\b\".format(re.escape(skill))\n",
    "        match = re.search(pattern, text, re.IGNORECASE)\n",
    "        if match:\n",
    "            skills.append(skill)\n",
    "\n",
    "    return skills"
   ]
  },
  {
   "cell_type": "code",
   "execution_count": 12,
   "id": "f53d8f55",
   "metadata": {},
   "outputs": [],
   "source": [
    "def extract_education_from_resume(text):\n",
    "    education = []\n",
    "\n",
    "    # List of education keywords to match against\n",
    "    education_keywords = ['Bsc', 'B. Pharmacy', 'B Pharmacy', 'Msc', 'M. Pharmacy', 'Ph.D', 'Bachelor', 'Master', 'B.E']\n",
    "\n",
    "    for keyword in education_keywords:\n",
    "        pattern = r\"(?i)\\b{}\\b\".format(re.escape(keyword))\n",
    "        match = re.search(pattern, text)\n",
    "        if match:\n",
    "            education.append(match.group())\n",
    "\n",
    "    return education"
   ]
  },
  {
   "cell_type": "code",
   "execution_count": 13,
   "id": "67f92972",
   "metadata": {
    "scrolled": true
   },
   "outputs": [
    {
     "name": "stdout",
     "output_type": "stream",
     "text": [
      "Name: Conceicao Rodrigues\n",
      "Contact Number: 91 9867972467\n",
      "Email: crce.9689.aids@gmail.com\n",
      "Skills: ['Python', 'Machine Learning']\n",
      "Education: ['B.E']\n"
     ]
    }
   ],
   "source": [
    "def extract_text_from_pdf(pdf_path):\n",
    "    return extract_text(pdf_path)\n",
    "\n",
    "def extract_name_from_resume(text):\n",
    "    name = None\n",
    "\n",
    "    # Use regex pattern to find a potential name\n",
    "    pattern = r\"(\\b[A-Z][a-z]+\\b)\\s(\\b[A-Z][a-z]+\\b)\"\n",
    "    match = re.search(pattern, text)\n",
    "    if match:\n",
    "        name = match.group()\n",
    "\n",
    "    return name\n",
    "\n",
    "if __name__ == '__main__':\n",
    "#     text = extract_text_from_pdf(\"My_Updated_Resume.pdf\")\n",
    "#     name = extract_name_from_resume(text)\n",
    "\n",
    "#     if name:\n",
    "#         print(\"Name:\", name)\n",
    "#     else:\n",
    "#         print(\"Name not found\")\n",
    "    resume_text = extract_text_from_pdf(\"My_Updated_Resume.pdf\")\n",
    "    \n",
    "#     print(\"Resume:\")\n",
    "#     print(resume_text)\n",
    "\n",
    "    name = extract_name_from_resume(text)\n",
    "    if name:\n",
    "        print(\"Name:\", name)\n",
    "    else:\n",
    "        print(\"Name not found\")\n",
    "\n",
    "    contact_number = extract_contact_number_from_resume(resume_text)\n",
    "    if contact_number:\n",
    "        print(\"Contact Number:\", contact_number)\n",
    "    else:\n",
    "        print(\"Contact Number not found\")\n",
    "\n",
    "    email = extract_email_from_resume(resume_text)\n",
    "    if email:\n",
    "        print(\"Email:\", email)\n",
    "    else:\n",
    "        print(\"Email not found\")\n",
    "\n",
    "    skills_list = ['Python', 'Data Analysis', 'Machine Learning', 'Communication']\n",
    "    extracted_skills = extract_skills_from_resume(resume_text, skills_list)\n",
    "    if extracted_skills:\n",
    "        print(\"Skills:\", extracted_skills)\n",
    "    else:\n",
    "        print(\"No skills found\")\n",
    "\n",
    "    extracted_education = extract_education_from_resume(resume_text)\n",
    "    if extracted_education:\n",
    "        print(\"Education:\", extracted_education)\n",
    "    else:\n",
    "        print(\"No education information found\")"
   ]
  },
  {
   "cell_type": "code",
   "execution_count": null,
   "id": "090b297c",
   "metadata": {},
   "outputs": [],
   "source": []
  }
 ],
 "metadata": {
  "kernelspec": {
   "display_name": "Python 3 (ipykernel)",
   "language": "python",
   "name": "python3"
  },
  "language_info": {
   "codemirror_mode": {
    "name": "ipython",
    "version": 3
   },
   "file_extension": ".py",
   "mimetype": "text/x-python",
   "name": "python",
   "nbconvert_exporter": "python",
   "pygments_lexer": "ipython3",
   "version": "3.9.13"
  }
 },
 "nbformat": 4,
 "nbformat_minor": 5
}
